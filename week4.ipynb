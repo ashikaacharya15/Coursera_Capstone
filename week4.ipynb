{
    "nbformat_minor": 1, 
    "cells": [
        {
            "source": "# _The battle of Neighborhoods_", 
            "cell_type": "markdown", 
            "metadata": {
                "collapsed": true
            }
        }, 
        {
            "source": "## Problem Statement & Definition", 
            "cell_type": "markdown", 
            "metadata": {}
        }, 
        {
            "source": "### The main idea is to get a list of nearby venues and then sort them according to variable criteria like price, rating, likes and dislikes.\n### This will help a person get recommendations based on his preferences(cheapest/high_rated/etc...)", 
            "cell_type": "markdown", 
            "metadata": {}
        }, 
        {
            "source": "## Data", 
            "cell_type": "markdown", 
            "metadata": {}
        }, 
        {
            "source": "We will be using 2 Foursquare APIs today for this project\n1. Search for Venues \n    - We will use this API to get a list of all nearby/given venues.\n2. Venue details\n    - Once we have the venues ID for all nearby venue, we will use this API to get additional information about a venue and build our data accordingly for further analysis.", 
            "cell_type": "markdown", 
            "metadata": {}
        }, 
        {
            "execution_count": null, 
            "cell_type": "code", 
            "metadata": {}, 
            "outputs": [], 
            "source": ""
        }
    ], 
    "metadata": {
        "kernelspec": {
            "display_name": "Python 3.6", 
            "name": "python3", 
            "language": "python"
        }, 
        "language_info": {
            "mimetype": "text/x-python", 
            "nbconvert_exporter": "python", 
            "version": "3.6.8", 
            "name": "python", 
            "file_extension": ".py", 
            "pygments_lexer": "ipython3", 
            "codemirror_mode": {
                "version": 3, 
                "name": "ipython"
            }
        }
    }, 
    "nbformat": 4
}